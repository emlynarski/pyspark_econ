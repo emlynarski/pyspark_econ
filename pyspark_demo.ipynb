{
 "cells": [
  {
   "cell_type": "markdown",
   "metadata": {},
   "source": [
    "# PHC4 AHA analysis using Pyspark - demo"
   ]
  },
  {
   "cell_type": "markdown",
   "metadata": {},
   "source": [
    "## Step 0: setup"
   ]
  },
  {
   "cell_type": "markdown",
   "metadata": {},
   "source": [
    "#### Imports & Spark setup"
   ]
  },
  {
   "cell_type": "code",
   "execution_count": null,
   "metadata": {},
   "outputs": [],
   "source": [
    "from pyspark.sql import SparkSession, Row\n",
    "from pyspark.sql.types import *\n",
    "import pyspark.sql.functions as F\n",
    "\n",
    "spark = SparkSession.builder.appName(\"pyspark_demo\").getOrCreate()\n",
    "sc = spark.sparkContext"
   ]
  },
  {
   "cell_type": "markdown",
   "metadata": {},
   "source": [
    "#### Input file paths"
   ]
  },
  {
   "cell_type": "code",
   "execution_count": null,
   "metadata": {},
   "outputs": [],
   "source": [
    "## include file extension (.csv | .txt | .tsv | .bed )\n",
    "aha_file_path = \"/path/to/aha.txt\" \n",
    "phc4_file_path = \"/path/to/phc4.tsv\""
   ]
  },
  {
   "cell_type": "markdown",
   "metadata": {},
   "source": [
    "<br>  \n",
    "\n",
    "<div class=\"alert alert-block alert-info\">\n",
    "**Note**: Spark/Pyspark is NOT limited to flat text files!  \n",
    "\n",
    "\n",
    "> Spark/Pyspark can load data from various external storage systems: file systems, key-value stores, directly from SQL databases, etc... \n",
    "\n",
    "</div>"
   ]
  },
  {
   "cell_type": "markdown",
   "metadata": {},
   "source": [
    "<br>  \n",
    "\n",
    "## Step 1: load input files"
   ]
  },
  {
   "cell_type": "code",
   "execution_count": null,
   "metadata": {},
   "outputs": [],
   "source": [
    "phc4_orig_df = spark.read.csv(phc4_file_path, sep='\\t', header=True)\n",
    "\n",
    "phc4_orig_df.show(3)"
   ]
  },
  {
   "cell_type": "code",
   "execution_count": null,
   "metadata": {},
   "outputs": [],
   "source": [
    "aha_orig_df = spark.read.csv(aha_file_path, sep='\\t', header=True)\n",
    "\n",
    "aha_orig_df.show(3)"
   ]
  },
  {
   "cell_type": "markdown",
   "metadata": {},
   "source": [
    "<br>  \n",
    "\n",
    "## Step 2: preprocess DataFrames"
   ]
  },
  {
   "cell_type": "markdown",
   "metadata": {},
   "source": [
    "#### PHC4"
   ]
  },
  {
   "cell_type": "code",
   "execution_count": null,
   "metadata": {},
   "outputs": [],
   "source": [
    "phc4_filt_df = phc4_orig_df.filter(col(\"OpCode\") == \"Surgery\")\n",
    "phc4_filt_df = phc4_filt_df.filter(col(\"Year\").between(1994, 2005))\n",
    "phc4_filt_df = phc4_filt_df.na.drop([\"PatientID\"])\n",
    "\n",
    "phc4_filt_df.show(3)"
   ]
  },
  {
   "cell_type": "markdown",
   "metadata": {},
   "source": [
    "#### AHA"
   ]
  },
  {
   "cell_type": "code",
   "execution_count": null,
   "metadata": {},
   "outputs": [],
   "source": [
    "aha_filt_df = aha_orig_df.na.drop([\"AHA\", \"Zip\"])\n",
    "\n",
    "aha_filt_df.show(3)"
   ]
  },
  {
   "cell_type": "markdown",
   "metadata": {},
   "source": [
    "<br>  \n",
    "\n",
    "## Step 3: join DataFrames"
   ]
  },
  {
   "cell_type": "code",
   "execution_count": null,
   "metadata": {},
   "outputs": [],
   "source": [
    "join_df = aha_filt_df.join(phc4_filt_df, on=['HospitalID'], how=\"inner\")\n",
    "\n",
    "join_df.show(3)"
   ]
  },
  {
   "cell_type": "markdown",
   "metadata": {},
   "source": [
    "<br>  \n",
    "\n",
    "## Step 4: process joined DataFrame"
   ]
  },
  {
   "cell_type": "code",
   "execution_count": null,
   "metadata": {},
   "outputs": [],
   "source": [
    "join_filt_df = join_df.filter((col(\"TotalCharge\") < 1000000) & (col(\"Cost\") < 500000))\n",
    "join_filt_df = join_filt_df.na.drop([\"Cost-to-charge\"])\n",
    "\n",
    "join_filt_df.show(3)"
   ]
  },
  {
   "cell_type": "code",
   "execution_count": null,
   "metadata": {},
   "outputs": [],
   "source": [
    "join_filt_df = join_filt_df.filter(...)"
   ]
  }
 ],
 "metadata": {
  "kernelspec": {
   "display_name": "Python 3",
   "language": "python",
   "name": "python3"
  },
  "language_info": {
   "codemirror_mode": {
    "name": "ipython",
    "version": 3
   },
   "file_extension": ".py",
   "mimetype": "text/x-python",
   "name": "python",
   "nbconvert_exporter": "python",
   "pygments_lexer": "ipython3",
   "version": "3.6.4"
  }
 },
 "nbformat": 4,
 "nbformat_minor": 2
}
